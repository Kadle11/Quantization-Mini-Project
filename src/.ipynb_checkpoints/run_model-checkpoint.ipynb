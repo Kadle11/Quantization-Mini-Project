{
 "cells": [
  {
   "cell_type": "code",
   "execution_count": 17,
   "id": "2ccd43a7-b8c4-4132-bec4-9785b9e115c2",
   "metadata": {},
   "outputs": [
    {
     "ename": "ModuleNotFoundError",
     "evalue": "No module named 'keras.layers.normalization'",
     "output_type": "error",
     "traceback": [
      "\u001b[0;31m---------------------------------------------------------------------------\u001b[0m",
      "\u001b[0;31mModuleNotFoundError\u001b[0m                       Traceback (most recent call last)",
      "Cell \u001b[0;32mIn[17], line 16\u001b[0m\n\u001b[1;32m     14\u001b[0m \u001b[38;5;28;01mfrom\u001b[39;00m \u001b[38;5;21;01mkeras\u001b[39;00m\u001b[38;5;21;01m.\u001b[39;00m\u001b[38;5;21;01mlayers\u001b[39;00m \u001b[38;5;28;01mimport\u001b[39;00m Dense, Dropout, Flatten, Conv2D\n\u001b[1;32m     15\u001b[0m \u001b[38;5;28;01mfrom\u001b[39;00m \u001b[38;5;21;01mkeras\u001b[39;00m\u001b[38;5;21;01m.\u001b[39;00m\u001b[38;5;21;01mlayers\u001b[39;00m \u001b[38;5;28;01mimport\u001b[39;00m MaxPool2D, Activation, MaxPooling2D\n\u001b[0;32m---> 16\u001b[0m \u001b[38;5;28;01mfrom\u001b[39;00m \u001b[38;5;21;01mkeras\u001b[39;00m\u001b[38;5;21;01m.\u001b[39;00m\u001b[38;5;21;01mlayers\u001b[39;00m\u001b[38;5;21;01m.\u001b[39;00m\u001b[38;5;21;01mnormalization\u001b[39;00m \u001b[38;5;28;01mimport\u001b[39;00m BatchNormalization\n\u001b[1;32m     19\u001b[0m \u001b[38;5;66;03m# model optimisation and scores\u001b[39;00m\n\u001b[1;32m     20\u001b[0m \u001b[38;5;28;01mfrom\u001b[39;00m \u001b[38;5;21;01msklearn\u001b[39;00m \u001b[38;5;28;01mimport\u001b[39;00m metrics\n",
      "\u001b[0;31mModuleNotFoundError\u001b[0m: No module named 'keras.layers.normalization'"
     ]
    }
   ],
   "source": [
    "# This Python 3 environment comes with many helpful analytics libraries installed\n",
    "# It is defined by the kaggle/python docker image: https://github.com/kaggle/docker-python\n",
    "# For example, here's several helpful packages to load in \n",
    "\n",
    "import numpy as np # linear algebra\n",
    "import pandas as pd # data processing, CSV file I/O (e.g. pd.read_csv)\n",
    "\n",
    "# import backend\n",
    "import tensorflow as  tf\n",
    "\n",
    "# Model architecture\n",
    "from sklearn.model_selection import train_test_split\n",
    "from keras.models import Sequential\n",
    "from keras.layers import Dense, Dropout, Flatten, Conv2D\n",
    "from keras.layers import MaxPool2D, Activation, MaxPooling2D\n",
    "from keras.layers.normalization import BatchNormalization\n",
    "\n",
    "\n",
    "# model optimisation and scores\n",
    "from sklearn import metrics\n",
    "from sklearn.metrics import accuracy_score, f1_score\n",
    "from tensorflow.keras.optimizers import Adam, SGD\n",
    "from sklearn.metrics import confusion_matrix, classification_report\n",
    "from sklearn.metrics import roc_auc_score, auc, roc_curve\n",
    "\n",
    "\n",
    "# Annealer\n",
    "from keras.callbacks import LearningRateScheduler\n",
    "from tensorflow.keras.callbacks import EarlyStopping, ReduceLROnPlateau, ModelCheckpoint\n",
    "\n",
    "\n",
    "# Data processing\n",
    "# from keras.preprocessing.image import ImageDataGenerator\n",
    "from keras.utils import to_categorical\n",
    "# from keras.preprocessing import image\n",
    "\n",
    "\n",
    "weights_dict = {}\n",
    "weight_callback = tf.keras.callbacks.LambdaCallback(\n",
    "    on_epoch_end=lambda epoch, logs: weights_dict.update({epoch: model.get_weights()}))\n",
    "\n",
    "\n",
    "(x_train, y_train), (x_test, y_test) = tf.keras.datasets.cifar10.load_data()"
   ]
  },
  {
   "cell_type": "code",
   "execution_count": 2,
   "id": "700cc378-9f97-452e-9260-ccc8fd71383a",
   "metadata": {},
   "outputs": [
    {
     "name": "stdout",
     "output_type": "stream",
     "text": [
      "Epoch 1/20\n",
      "1563/1563 [==============================] - 20s 12ms/step - loss: 2.9723 - accuracy: 0.2016 - val_loss: 1.8634 - val_accuracy: 0.3126\n",
      "Epoch 2/20\n",
      "1563/1563 [==============================] - 17s 11ms/step - loss: 1.7512 - accuracy: 0.3454 - val_loss: 1.6187 - val_accuracy: 0.3854\n",
      "Epoch 3/20\n",
      "1563/1563 [==============================] - 16s 10ms/step - loss: 1.5547 - accuracy: 0.4278 - val_loss: 1.4781 - val_accuracy: 0.4500\n",
      "Epoch 4/20\n",
      "1563/1563 [==============================] - 15s 10ms/step - loss: 1.4061 - accuracy: 0.4824 - val_loss: 1.5004 - val_accuracy: 0.4588\n",
      "Epoch 5/20\n",
      "1563/1563 [==============================] - 15s 9ms/step - loss: 1.2998 - accuracy: 0.5246 - val_loss: 1.3289 - val_accuracy: 0.5277\n",
      "Epoch 6/20\n",
      "1563/1563 [==============================] - 15s 9ms/step - loss: 1.2194 - accuracy: 0.5573 - val_loss: 1.2733 - val_accuracy: 0.5449\n",
      "Epoch 7/20\n",
      "1563/1563 [==============================] - 14s 9ms/step - loss: 1.1608 - accuracy: 0.5823 - val_loss: 1.2675 - val_accuracy: 0.5547\n",
      "Epoch 8/20\n",
      "1563/1563 [==============================] - 13s 9ms/step - loss: 1.1105 - accuracy: 0.6031 - val_loss: 1.3475 - val_accuracy: 0.5240\n",
      "Epoch 9/20\n",
      "1563/1563 [==============================] - 14s 9ms/step - loss: 1.0771 - accuracy: 0.6166 - val_loss: 1.3315 - val_accuracy: 0.5414\n",
      "Epoch 10/20\n",
      "1563/1563 [==============================] - 13s 9ms/step - loss: 1.0448 - accuracy: 0.6281 - val_loss: 1.3701 - val_accuracy: 0.5447\n",
      "Epoch 11/20\n",
      "1563/1563 [==============================] - 13s 8ms/step - loss: 1.0219 - accuracy: 0.6341 - val_loss: 1.3450 - val_accuracy: 0.5516\n",
      "Epoch 12/20\n",
      "1563/1563 [==============================] - 13s 8ms/step - loss: 0.9958 - accuracy: 0.6482 - val_loss: 1.3649 - val_accuracy: 0.5558\n",
      "Epoch 13/20\n",
      "1563/1563 [==============================] - 13s 8ms/step - loss: 0.9656 - accuracy: 0.6586 - val_loss: 1.3642 - val_accuracy: 0.5512\n",
      "Epoch 14/20\n",
      "1563/1563 [==============================] - 12s 8ms/step - loss: 0.9519 - accuracy: 0.6630 - val_loss: 1.4037 - val_accuracy: 0.5577\n",
      "Epoch 15/20\n",
      "1563/1563 [==============================] - 12s 8ms/step - loss: 0.9195 - accuracy: 0.6755 - val_loss: 1.4303 - val_accuracy: 0.5558\n",
      "Epoch 16/20\n",
      "1563/1563 [==============================] - 12s 8ms/step - loss: 0.9054 - accuracy: 0.6814 - val_loss: 1.4433 - val_accuracy: 0.5655\n",
      "Epoch 17/20\n",
      "1563/1563 [==============================] - 12s 8ms/step - loss: 0.8797 - accuracy: 0.6897 - val_loss: 1.5223 - val_accuracy: 0.5376\n",
      "Epoch 18/20\n",
      "1563/1563 [==============================] - 12s 8ms/step - loss: 0.8610 - accuracy: 0.6982 - val_loss: 1.5035 - val_accuracy: 0.5535\n",
      "Epoch 19/20\n",
      "1563/1563 [==============================] - 12s 8ms/step - loss: 0.8493 - accuracy: 0.7036 - val_loss: 1.5216 - val_accuracy: 0.5506\n",
      "Epoch 20/20\n",
      "1563/1563 [==============================] - 12s 8ms/step - loss: 0.8338 - accuracy: 0.7058 - val_loss: 1.6063 - val_accuracy: 0.5457\n"
     ]
    }
   ],
   "source": [
    "history = model.fit(x_train, y_train, epochs=20, validation_data=(\n",
    "    x_test, y_test), callbacks=[weight_callback])"
   ]
  },
  {
   "cell_type": "code",
   "execution_count": 3,
   "id": "d9fdf82e-a795-4410-aa40-d69c53828711",
   "metadata": {},
   "outputs": [
    {
     "name": "stdout",
     "output_type": "stream",
     "text": [
      "313/313 [==============================] - 1s 3ms/step - loss: 1.6063 - accuracy: 0.5457\n",
      "Test accuracy : 0.5457000136375427\n"
     ]
    }
   ],
   "source": [
    "test_loss, test_accuracy = model.evaluate(x_test, y_test)\n",
    "print(f\"Test accuracy : {test_accuracy}\")"
   ]
  },
  {
   "cell_type": "code",
   "execution_count": 6,
   "id": "ac05a07f-b4a6-4209-8da3-d692566a4621",
   "metadata": {},
   "outputs": [
    {
     "name": "stdout",
     "output_type": "stream",
     "text": [
      "Epoch: 0 - 0.085\n",
      "Epoch: 1 - 0.102\n",
      "Epoch: 2 - 0.092\n",
      "Epoch: 3 - 0.094\n",
      "Epoch: 4 - 0.097\n",
      "Epoch: 5 - 0.092\n",
      "Epoch: 6 - 0.088\n",
      "Epoch: 7 - 0.089\n",
      "Epoch: 8 - 0.092\n",
      "Epoch: 9 - 0.093\n",
      "Epoch: 10 - 0.095\n",
      "Epoch: 11 - 0.102\n",
      "Epoch: 12 - 0.100\n",
      "Epoch: 13 - 0.101\n",
      "Epoch: 14 - 0.102\n",
      "Epoch: 15 - 0.101\n",
      "Epoch: 16 - 0.100\n",
      "Epoch: 17 - 0.102\n",
      "Epoch: 18 - 0.097\n"
     ]
    }
   ],
   "source": [
    "deltas = []\n",
    "prev_weights = []\n",
    "for epoch, weights in weights_dict.items():\n",
    "    if(epoch == 0):\n",
    "        prev_weights = np.array(weights, dtype=object)\n",
    "        continue\n",
    "    deltas.append((np.array(weights, dtype=object) - prev_weights)/prev_weights)\n",
    "    prev_weights = np.array(weights, dtype=object)\n",
    "\n",
    "deltas = np.array(deltas)\n",
    "epochIdx = 0\n",
    "\n",
    "for epoch_deltas in deltas:\n",
    "    epoch_delta_sum = 0\n",
    "    epoch_delta_size = 0\n",
    "    for layer_deltas in epoch_deltas:\n",
    "        epoch_delta_sum += (layer_deltas > 0.009).sum()\n",
    "        epoch_delta_size += np.size(layer_deltas)\n",
    "    print(\"Epoch:\", epochIdx, \"- {:.3f}\".format(epoch_delta_sum/epoch_delta_size))\n",
    "    epochIdx += 1"
   ]
  },
  {
   "cell_type": "code",
   "execution_count": null,
   "id": "7d30b123-2cbc-4c6c-be1b-986d02ba933f",
   "metadata": {},
   "outputs": [],
   "source": []
  }
 ],
 "metadata": {
  "kernelspec": {
   "display_name": "Python 3 (ipykernel)",
   "language": "python",
   "name": "python3"
  },
  "language_info": {
   "codemirror_mode": {
    "name": "ipython",
    "version": 3
   },
   "file_extension": ".py",
   "mimetype": "text/x-python",
   "name": "python",
   "nbconvert_exporter": "python",
   "pygments_lexer": "ipython3",
   "version": "3.10.12"
  }
 },
 "nbformat": 4,
 "nbformat_minor": 5
}
